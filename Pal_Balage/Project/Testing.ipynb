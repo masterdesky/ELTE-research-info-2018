{
 "cells": [
  {
   "cell_type": "code",
   "execution_count": 81,
   "metadata": {},
   "outputs": [
    {
     "name": "stdout",
     "output_type": "stream",
     "text": [
      "Declination: 10\n"
     ]
    }
   ],
   "source": [
    "# [ -pi/2, +pi/2 ]\n",
    "Declination = -190\n",
    "\n",
    "if(Declination <= -360 or Declination >= 360):\n",
    "    Declination = Declination - int(Declination / 360) * 360\n",
    "    \n",
    "if(Declination < 0):\n",
    "    if(Declination < -90 and Declination >= -270):\n",
    "        Declination = - (Declination + 180)\n",
    "    elif(Declination < -270 and Declination >= -360):\n",
    "        Declination = Declination + 360\n",
    "\n",
    "elif(Declination > 0):\n",
    "    if(Declination > 90 and Declination <= 270):\n",
    "        Declination = - (Declination - 180)\n",
    "    elif(Declination > 270 and Declination <= 360):\n",
    "        Declination = Declination - 360\n",
    "      \n",
    "    \n",
    "print(\"Declination:\", Declination)"
   ]
  },
  {
   "cell_type": "code",
   "execution_count": 1,
   "metadata": {},
   "outputs": [],
   "source": [
    "Budapest = [47.4979,19.0402]"
   ]
  },
  {
   "cell_type": "code",
   "execution_count": 2,
   "metadata": {},
   "outputs": [],
   "source": [
    "def ConvertVars(City):\n",
    "    Latitude = City[0]\n",
    "    return(Latitude)"
   ]
  },
  {
   "cell_type": "code",
   "execution_count": 3,
   "metadata": {},
   "outputs": [
    {
     "name": "stdout",
     "output_type": "stream",
     "text": [
      "City #1: Budapest\n",
      "Latitude:  47.4979\n"
     ]
    }
   ],
   "source": [
    "City1 = vars()[(input('City #1: '))]\n",
    "Latitude = ConvertVars(City1)\n",
    "print('Latitude: ', Latitude)"
   ]
  },
  {
   "cell_type": "code",
   "execution_count": 4,
   "metadata": {},
   "outputs": [],
   "source": [
    "import math"
   ]
  },
  {
   "cell_type": "code",
   "execution_count": 8,
   "metadata": {},
   "outputs": [
    {
     "name": "stdout",
     "output_type": "stream",
     "text": [
      "Ceil -: -2290\n",
      "Floor -: -2291\n",
      "Ceil +: 2291\n",
      "Floor +: 2290\n"
     ]
    }
   ],
   "source": [
    "print(\"Ceil -:\",math.ceil(-2290.34667))\n",
    "print(\"Floor -:\",math.floor(-2290.34667))\n",
    "print(\"Ceil +:\",math.ceil(2290.34667))\n",
    "print(\"Floor +:\",math.floor(2290.34667))"
   ]
  },
  {
   "cell_type": "code",
   "execution_count": null,
   "metadata": {},
   "outputs": [],
   "source": []
  }
 ],
 "metadata": {
  "kernelspec": {
   "display_name": "Python 3",
   "language": "python",
   "name": "python3"
  },
  "language_info": {
   "codemirror_mode": {
    "name": "ipython",
    "version": 3
   },
   "file_extension": ".py",
   "mimetype": "text/x-python",
   "name": "python",
   "nbconvert_exporter": "python",
   "pygments_lexer": "ipython3",
   "version": "3.6.5"
  }
 },
 "nbformat": 4,
 "nbformat_minor": 2
}
